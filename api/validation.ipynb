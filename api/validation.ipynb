{
 "cells": [
  {
   "cell_type": "code",
   "execution_count": 36,
   "metadata": {},
   "outputs": [
    {
     "name": "stdout",
     "output_type": "stream",
     "text": [
      "{'model_key': 'Renault', 'mileage': 162327, 'engine_power': 190, 'fuel': 'diesel', 'paint_color': 'black', 'car_type': 'coupe', 'private_parking_available': True, 'has_gps': True, 'has_air_conditioning': False, 'automatic_car': True, 'has_getaround_connect': True, 'has_speed_regulator': True, 'winter_tires': True}\n"
     ]
    },
    {
     "ename": "HTTPError",
     "evalue": "500 Server Error: Internal Server Error for url: http://82.65.181.64:49157/predict",
     "output_type": "error",
     "traceback": [
      "\u001b[1;31m---------------------------------------------------------------------------\u001b[0m",
      "\u001b[1;31mHTTPError\u001b[0m                                 Traceback (most recent call last)",
      "\u001b[1;32mc:\\Users\\frede\\OneDrive\\Desktop\\Data\\Projets\\03-getaround\\api\\validation.ipynb Cellule 1\u001b[0m in \u001b[0;36m<cell line: 13>\u001b[1;34m()\u001b[0m\n\u001b[0;32m      <a href='vscode-notebook-cell:/c%3A/Users/frede/OneDrive/Desktop/Data/Projets/03-getaround/api/validation.ipynb#W0sZmlsZQ%3D%3D?line=8'>9</a>\u001b[0m response \u001b[39m=\u001b[39m requests\u001b[39m.\u001b[39mpost(\u001b[39m\"\u001b[39m\u001b[39mhttp://82.65.181.64:49157/predict\u001b[39m\u001b[39m\"\u001b[39m, json\u001b[39m=\u001b[39mcontents)\n\u001b[0;32m     <a href='vscode-notebook-cell:/c%3A/Users/frede/OneDrive/Desktop/Data/Projets/03-getaround/api/validation.ipynb#W0sZmlsZQ%3D%3D?line=10'>11</a>\u001b[0m \u001b[39mprint\u001b[39m(contents)\n\u001b[1;32m---> <a href='vscode-notebook-cell:/c%3A/Users/frede/OneDrive/Desktop/Data/Projets/03-getaround/api/validation.ipynb#W0sZmlsZQ%3D%3D?line=12'>13</a>\u001b[0m response\u001b[39m.\u001b[39;49mraise_for_status()\n\u001b[0;32m     <a href='vscode-notebook-cell:/c%3A/Users/frede/OneDrive/Desktop/Data/Projets/03-getaround/api/validation.ipynb#W0sZmlsZQ%3D%3D?line=14'>15</a>\u001b[0m \u001b[39mprint\u001b[39m(response\u001b[39m.\u001b[39mjson())\n",
      "File \u001b[1;32m~\\AppData\\Local\\Packages\\PythonSoftwareFoundation.Python.3.10_qbz5n2kfra8p0\\LocalCache\\local-packages\\Python310\\site-packages\\requests\\models.py:960\u001b[0m, in \u001b[0;36mResponse.raise_for_status\u001b[1;34m(self)\u001b[0m\n\u001b[0;32m    957\u001b[0m     http_error_msg \u001b[39m=\u001b[39m \u001b[39mu\u001b[39m\u001b[39m'\u001b[39m\u001b[39m%s\u001b[39;00m\u001b[39m Server Error: \u001b[39m\u001b[39m%s\u001b[39;00m\u001b[39m for url: \u001b[39m\u001b[39m%s\u001b[39;00m\u001b[39m'\u001b[39m \u001b[39m%\u001b[39m (\u001b[39mself\u001b[39m\u001b[39m.\u001b[39mstatus_code, reason, \u001b[39mself\u001b[39m\u001b[39m.\u001b[39murl)\n\u001b[0;32m    959\u001b[0m \u001b[39mif\u001b[39;00m http_error_msg:\n\u001b[1;32m--> 960\u001b[0m     \u001b[39mraise\u001b[39;00m HTTPError(http_error_msg, response\u001b[39m=\u001b[39m\u001b[39mself\u001b[39m)\n",
      "\u001b[1;31mHTTPError\u001b[0m: 500 Server Error: Internal Server Error for url: http://82.65.181.64:49157/predict"
     ]
    }
   ],
   "source": [
    "import requests\n",
    "import json\n",
    "\n",
    "json_file_path = \"test.json\"\n",
    "\n",
    "with open(json_file_path, 'r') as j:\n",
    "     contents = json.loads(j.read())\n",
    "\n",
    "response = requests.post(\"http://82.65.181.64:49157/predict\", json=contents)\n",
    "\n",
    "print(contents)\n",
    "\n",
    "response.raise_for_status()\n",
    "\n",
    "print(response.json())"
   ]
  },
  {
   "cell_type": "code",
   "execution_count": null,
   "metadata": {},
   "outputs": [],
   "source": []
  }
 ],
 "metadata": {
  "kernelspec": {
   "display_name": "Python 3.10.8 64-bit (microsoft store)",
   "language": "python",
   "name": "python3"
  },
  "language_info": {
   "codemirror_mode": {
    "name": "ipython",
    "version": 3
   },
   "file_extension": ".py",
   "mimetype": "text/x-python",
   "name": "python",
   "nbconvert_exporter": "python",
   "pygments_lexer": "ipython3",
   "version": "3.10.8"
  },
  "orig_nbformat": 4,
  "vscode": {
   "interpreter": {
    "hash": "650fa92be31bf650066ac4047dcada211305a7063c331efd6a8c08465b54e9de"
   }
  }
 },
 "nbformat": 4,
 "nbformat_minor": 2
}
